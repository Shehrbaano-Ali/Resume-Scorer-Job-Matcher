{
 "cells": [
  {
   "cell_type": "code",
   "execution_count": 2,
   "id": "447af86f-3cfd-4f02-9769-5e26051779e6",
   "metadata": {},
   "outputs": [
    {
     "data": {
      "text/plain": [
       "'C:\\\\Users\\\\User\\\\Downloads\\\\PROJECT1\\\\Resume-Scorer-Job-Matcher\\\\notebooks'"
      ]
     },
     "execution_count": 2,
     "metadata": {},
     "output_type": "execute_result"
    }
   ],
   "source": [
    "import os\n",
    "os.getcwd()"
   ]
  },
  {
   "cell_type": "code",
   "execution_count": 3,
   "id": "b5bcab45-3a15-4ed7-9a32-2359c3b1adea",
   "metadata": {},
   "outputs": [],
   "source": [
    "import os\n",
    "os.chdir(\"..\")  #go up one level if you're inside /notebooks"
   ]
  },
  {
   "cell_type": "code",
   "execution_count": 4,
   "id": "866df628-1fb4-4146-836d-52ad0f048a72",
   "metadata": {},
   "outputs": [
    {
     "data": {
      "text/plain": [
       "['.git',\n",
       " '.gitignore',\n",
       " 'data',\n",
       " 'notebooks',\n",
       " 'README.md',\n",
       " 'requirements.txt',\n",
       " 'src']"
      ]
     },
     "execution_count": 4,
     "metadata": {},
     "output_type": "execute_result"
    }
   ],
   "source": [
    "os.listdir()"
   ]
  },
  {
   "cell_type": "code",
   "execution_count": 5,
   "id": "8007cbe0-8b4e-4849-9aa5-c57a4d6a4906",
   "metadata": {},
   "outputs": [
    {
     "data": {
      "text/html": [
       "<div>\n",
       "<style scoped>\n",
       "    .dataframe tbody tr th:only-of-type {\n",
       "        vertical-align: middle;\n",
       "    }\n",
       "\n",
       "    .dataframe tbody tr th {\n",
       "        vertical-align: top;\n",
       "    }\n",
       "\n",
       "    .dataframe thead th {\n",
       "        text-align: right;\n",
       "    }\n",
       "</style>\n",
       "<table border=\"1\" class=\"dataframe\">\n",
       "  <thead>\n",
       "    <tr style=\"text-align: right;\">\n",
       "      <th></th>\n",
       "      <th>name</th>\n",
       "      <th>job_title</th>\n",
       "      <th>experience_years</th>\n",
       "      <th>skills</th>\n",
       "      <th>education</th>\n",
       "    </tr>\n",
       "  </thead>\n",
       "  <tbody>\n",
       "    <tr>\n",
       "      <th>0</th>\n",
       "      <td>Ali Khan</td>\n",
       "      <td>Data Scientist</td>\n",
       "      <td>2</td>\n",
       "      <td>Python; Pandas; Machine Learning; SQL</td>\n",
       "      <td>BS Computer Science</td>\n",
       "    </tr>\n",
       "    <tr>\n",
       "      <th>1</th>\n",
       "      <td>Sara Malik</td>\n",
       "      <td>ML Engineer</td>\n",
       "      <td>3</td>\n",
       "      <td>Python; TensorFlow; Keras; Deep Learning</td>\n",
       "      <td>MS AI</td>\n",
       "    </tr>\n",
       "    <tr>\n",
       "      <th>2</th>\n",
       "      <td>Ahmed Raza</td>\n",
       "      <td>Data Analyst</td>\n",
       "      <td>1</td>\n",
       "      <td>Excel; SQL; Data Visualization</td>\n",
       "      <td>BS Statistics</td>\n",
       "    </tr>\n",
       "    <tr>\n",
       "      <th>3</th>\n",
       "      <td>Zoya Tariq</td>\n",
       "      <td>Software Engineer</td>\n",
       "      <td>4</td>\n",
       "      <td>Java; Spring Boot; Microservices</td>\n",
       "      <td>BS Software Engineering</td>\n",
       "    </tr>\n",
       "    <tr>\n",
       "      <th>4</th>\n",
       "      <td>Hassan Noor</td>\n",
       "      <td>NLP Researcher</td>\n",
       "      <td>2</td>\n",
       "      <td>NLP; Transformers; HuggingFace; PyTorch</td>\n",
       "      <td>MS Data Science</td>\n",
       "    </tr>\n",
       "  </tbody>\n",
       "</table>\n",
       "</div>"
      ],
      "text/plain": [
       "          name          job_title  experience_years  \\\n",
       "0     Ali Khan     Data Scientist                 2   \n",
       "1   Sara Malik        ML Engineer                 3   \n",
       "2   Ahmed Raza       Data Analyst                 1   \n",
       "3   Zoya Tariq  Software Engineer                 4   \n",
       "4  Hassan Noor     NLP Researcher                 2   \n",
       "\n",
       "                                     skills                education  \n",
       "0     Python; Pandas; Machine Learning; SQL      BS Computer Science  \n",
       "1  Python; TensorFlow; Keras; Deep Learning                    MS AI  \n",
       "2            Excel; SQL; Data Visualization            BS Statistics  \n",
       "3          Java; Spring Boot; Microservices  BS Software Engineering  \n",
       "4   NLP; Transformers; HuggingFace; PyTorch          MS Data Science  "
      ]
     },
     "execution_count": 5,
     "metadata": {},
     "output_type": "execute_result"
    }
   ],
   "source": [
    "df = pd.read_csv(\"data/resumes.csv\")\n",
    "df.head()"
   ]
  },
  {
   "cell_type": "markdown",
   "id": "0b54cdf2-7a66-4848-b108-f0c456372211",
   "metadata": {},
   "source": [
    "## 📦 Step 0 – Load the Data\n",
    "\n",
    "I'm starting by loading the resumes dataset using pandas. It includes columns like name, job title, experience, skills, and education.\n"
   ]
  },
  {
   "cell_type": "code",
   "execution_count": 6,
   "id": "7cbad362-3971-4c0e-a943-e793b956274f",
   "metadata": {},
   "outputs": [
    {
     "data": {
      "text/html": [
       "<div>\n",
       "<style scoped>\n",
       "    .dataframe tbody tr th:only-of-type {\n",
       "        vertical-align: middle;\n",
       "    }\n",
       "\n",
       "    .dataframe tbody tr th {\n",
       "        vertical-align: top;\n",
       "    }\n",
       "\n",
       "    .dataframe thead th {\n",
       "        text-align: right;\n",
       "    }\n",
       "</style>\n",
       "<table border=\"1\" class=\"dataframe\">\n",
       "  <thead>\n",
       "    <tr style=\"text-align: right;\">\n",
       "      <th></th>\n",
       "      <th>name</th>\n",
       "      <th>job_title</th>\n",
       "      <th>experience_years</th>\n",
       "      <th>skills</th>\n",
       "      <th>education</th>\n",
       "    </tr>\n",
       "  </thead>\n",
       "  <tbody>\n",
       "    <tr>\n",
       "      <th>0</th>\n",
       "      <td>Ali Khan</td>\n",
       "      <td>Data Scientist</td>\n",
       "      <td>2</td>\n",
       "      <td>Python; Pandas; Machine Learning; SQL</td>\n",
       "      <td>BS Computer Science</td>\n",
       "    </tr>\n",
       "    <tr>\n",
       "      <th>1</th>\n",
       "      <td>Sara Malik</td>\n",
       "      <td>ML Engineer</td>\n",
       "      <td>3</td>\n",
       "      <td>Python; TensorFlow; Keras; Deep Learning</td>\n",
       "      <td>MS AI</td>\n",
       "    </tr>\n",
       "    <tr>\n",
       "      <th>2</th>\n",
       "      <td>Ahmed Raza</td>\n",
       "      <td>Data Analyst</td>\n",
       "      <td>1</td>\n",
       "      <td>Excel; SQL; Data Visualization</td>\n",
       "      <td>BS Statistics</td>\n",
       "    </tr>\n",
       "    <tr>\n",
       "      <th>3</th>\n",
       "      <td>Zoya Tariq</td>\n",
       "      <td>Software Engineer</td>\n",
       "      <td>4</td>\n",
       "      <td>Java; Spring Boot; Microservices</td>\n",
       "      <td>BS Software Engineering</td>\n",
       "    </tr>\n",
       "    <tr>\n",
       "      <th>4</th>\n",
       "      <td>Hassan Noor</td>\n",
       "      <td>NLP Researcher</td>\n",
       "      <td>2</td>\n",
       "      <td>NLP; Transformers; HuggingFace; PyTorch</td>\n",
       "      <td>MS Data Science</td>\n",
       "    </tr>\n",
       "  </tbody>\n",
       "</table>\n",
       "</div>"
      ],
      "text/plain": [
       "          name          job_title  experience_years  \\\n",
       "0     Ali Khan     Data Scientist                 2   \n",
       "1   Sara Malik        ML Engineer                 3   \n",
       "2   Ahmed Raza       Data Analyst                 1   \n",
       "3   Zoya Tariq  Software Engineer                 4   \n",
       "4  Hassan Noor     NLP Researcher                 2   \n",
       "\n",
       "                                     skills                education  \n",
       "0     Python; Pandas; Machine Learning; SQL      BS Computer Science  \n",
       "1  Python; TensorFlow; Keras; Deep Learning                    MS AI  \n",
       "2            Excel; SQL; Data Visualization            BS Statistics  \n",
       "3          Java; Spring Boot; Microservices  BS Software Engineering  \n",
       "4   NLP; Transformers; HuggingFace; PyTorch          MS Data Science  "
      ]
     },
     "execution_count": 6,
     "metadata": {},
     "output_type": "execute_result"
    }
   ],
   "source": [
    "# Import pandas to work with data\n",
    "import pandas as pd\n",
    "\n",
    "# Load my dataset\n",
    "df = pd.read_csv(\"data/resumes.csv\")  # path matches my project folder structure\n",
    "\n",
    "# Peek at the first few rows\n",
    "df.head()\n"
   ]
  },
  {
   "cell_type": "markdown",
   "id": "2c88c2ad-a171-43ba-a839-1d902d9394d0",
   "metadata": {},
   "source": [
    "## 👀 Step 1 – Initial Data Preview\n",
    "\n",
    "I'm checking the overall structure of the dataset and seeing if any values are missing or badly formatted.\n"
   ]
  },
  {
   "cell_type": "code",
   "execution_count": 7,
   "id": "3dbd6109-04f8-446a-815c-12eaed10fd1e",
   "metadata": {},
   "outputs": [
    {
     "name": "stdout",
     "output_type": "stream",
     "text": [
      "<class 'pandas.core.frame.DataFrame'>\n",
      "RangeIndex: 6 entries, 0 to 5\n",
      "Data columns (total 5 columns):\n",
      " #   Column            Non-Null Count  Dtype \n",
      "---  ------            --------------  ----- \n",
      " 0   name              6 non-null      object\n",
      " 1   job_title         6 non-null      object\n",
      " 2   experience_years  6 non-null      int64 \n",
      " 3   skills            6 non-null      object\n",
      " 4   education         6 non-null      object\n",
      "dtypes: int64(1), object(4)\n",
      "memory usage: 372.0+ bytes\n"
     ]
    },
    {
     "data": {
      "text/plain": [
       "name                0\n",
       "job_title           0\n",
       "experience_years    0\n",
       "skills              0\n",
       "education           0\n",
       "dtype: int64"
      ]
     },
     "execution_count": 7,
     "metadata": {},
     "output_type": "execute_result"
    }
   ],
   "source": [
    "# Check data structure and non-null values\n",
    "df.info()\n",
    "\n",
    "# Check for missing values\n",
    "df.isnull().sum()\n"
   ]
  },
  {
   "cell_type": "markdown",
   "id": "29c197af-3d20-4e98-a53b-584374f1b30e",
   "metadata": {},
   "source": [
    "## 🔍 Step 2 – Job Titles & Experience Overview\n",
    "\n",
    "I want to understand how many types of job titles there are and how experience is distributed across the dataset.\n"
   ]
  },
  {
   "cell_type": "code",
   "execution_count": 8,
   "id": "ab49c192-15de-433d-a46f-c0676e723e8f",
   "metadata": {},
   "outputs": [
    {
     "data": {
      "text/plain": [
       "job_title\n",
       "Data Scientist       1\n",
       "ML Engineer          1\n",
       "Data Analyst         1\n",
       "Software Engineer    1\n",
       "NLP Researcher       1\n",
       "Backend Developer    1\n",
       "Name: count, dtype: int64"
      ]
     },
     "execution_count": 8,
     "metadata": {},
     "output_type": "execute_result"
    }
   ],
   "source": [
    "# Count job titles\n",
    "df['job_title'].value_counts()\n"
   ]
  },
  {
   "cell_type": "code",
   "execution_count": 9,
   "id": "b749a370-3008-4733-8d6e-9ec8f315f5f5",
   "metadata": {},
   "outputs": [
    {
     "data": {
      "text/plain": [
       "count    6.000000\n",
       "mean     2.833333\n",
       "std      1.471960\n",
       "min      1.000000\n",
       "25%      2.000000\n",
       "50%      2.500000\n",
       "75%      3.750000\n",
       "max      5.000000\n",
       "Name: experience_years, dtype: float64"
      ]
     },
     "execution_count": 9,
     "metadata": {},
     "output_type": "execute_result"
    }
   ],
   "source": [
    "# Describe experience years\n",
    "df['experience_years'].describe()\n"
   ]
  },
  {
   "cell_type": "markdown",
   "id": "b5335396-0178-4fed-b856-9a03cfae3de3",
   "metadata": {},
   "source": [
    "## 🛠️ Step 3 – Top Skills Analysis\n",
    "\n",
    "The `skills` column contains many skills in a single string separated by `;`. I'm going to split them and count how often each skill shows up.\n"
   ]
  },
  {
   "cell_type": "code",
   "execution_count": 10,
   "id": "d7e7d996-31b9-4aec-9845-f74626f32da0",
   "metadata": {},
   "outputs": [
    {
     "data": {
      "text/plain": [
       "[('Python', 2),\n",
       " ('SQL', 2),\n",
       " ('Pandas', 1),\n",
       " ('Machine Learning', 1),\n",
       " ('TensorFlow', 1),\n",
       " ('Keras', 1),\n",
       " ('Deep Learning', 1),\n",
       " ('Excel', 1),\n",
       " ('Data Visualization', 1),\n",
       " ('Java', 1)]"
      ]
     },
     "execution_count": 10,
     "metadata": {},
     "output_type": "execute_result"
    }
   ],
   "source": [
    "from collections import Counter\n",
    "\n",
    "all_skills = []\n",
    "\n",
    "# Split and clean each skill entry\n",
    "for skill_str in df['skills']:\n",
    "    all_skills.extend([s.strip() for s in skill_str.split(';')])\n",
    "\n",
    "# Count frequency of each skill\n",
    "skill_counts = Counter(all_skills)\n",
    "\n",
    "# Display top 10 skills\n",
    "skill_counts.most_common(10)\n"
   ]
  },
  {
   "cell_type": "markdown",
   "id": "16e0c6cc-ddfb-4672-ab8a-911622e5eef1",
   "metadata": {},
   "source": [
    "## 📊 Step 4 – Visualizing Top 10 Skills\n",
    "\n",
    "To get a clearer view of the top skills, I'm creating a horizontal bar chart. This helps me quickly spot trends in the dataset.\n"
   ]
  },
  {
   "cell_type": "code",
   "execution_count": 13,
   "id": "b4873661-c505-4eff-a975-d01ac509bddc",
   "metadata": {},
   "outputs": [
    {
     "data": {
      "image/png": "[encoded data removed]",
      "text/plain": [
       "<Figure size 1000x500 with 1 Axes>"
      ]
     },
     "metadata": {},
     "output_type": "display_data"
    }
   ],
   "source": [
    "import matplotlib.pyplot as plt\n",
    "import seaborn as sns\n",
    "\n",
    "# Prepare top 10 skills\n",
    "top_skills = skill_counts.most_common(10)\n",
    "skills, counts = zip(*top_skills)\n",
    "\n",
    "# Create bar plot\n",
    "plt.figure(figsize=(10, 5))\n",
    "sns.barplot(x=list(counts), y=list(skills))\n",
    "plt.title('Top 10 Skills in the Dataset')\n",
    "plt.xlabel('Frequency')\n",
    "plt.ylabel('Skill')\n",
    "plt.tight_layout()\n",
    "plt.show()\n"
   ]
  },
  {
   "cell_type": "code",
   "execution_count": null,
   "id": "319a777f-7ddd-4a82-854f-eb9950140786",
   "metadata": {},
   "outputs": [],
   "source": []
  }
 ],
 "metadata": {
  "kernelspec": {
   "display_name": "Python 3 (ipykernel)",
   "language": "python",
   "name": "python3"
  },
  "language_info": {
   "codemirror_mode": {
    "name": "ipython",
    "version": 3
   },
   "file_extension": ".py",
   "mimetype": "text/x-python",
   "name": "python",
   "nbconvert_exporter": "python",
   "pygments_lexer": "ipython3",
   "version": "3.12.3"
  }
 },
 "nbformat": 4,
 "nbformat_minor": 5
}
