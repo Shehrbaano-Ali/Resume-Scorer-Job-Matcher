{
 "cells": [
  {
   "cell_type": "markdown",
   "id": "e7f220c6-5e94-45be-a5d2-ea07b9431e65",
   "metadata": {},
   "source": [
    "## 📦 Step 0 – Load the Data\n",
    "\n",
    "I'm starting by loading the resumes dataset using pandas. It includes columns like name, job title, experience, skills, and education.\n"
   ]
  },
  {
   "cell_type": "code",
   "execution_count": 9,
   "id": "7cbad362-3971-4c0e-a943-e793b956274f",
   "metadata": {},
   "outputs": [
    {
     "data": {
      "text/html": [
       "<div>\n",
       "<style scoped>\n",
       "    .dataframe tbody tr th:only-of-type {\n",
       "        vertical-align: middle;\n",
       "    }\n",
       "\n",
       "    .dataframe tbody tr th {\n",
       "        vertical-align: top;\n",
       "    }\n",
       "\n",
       "    .dataframe thead th {\n",
       "        text-align: right;\n",
       "    }\n",
       "</style>\n",
       "<table border=\"1\" class=\"dataframe\">\n",
       "  <thead>\n",
       "    <tr style=\"text-align: right;\">\n",
       "      <th></th>\n",
       "      <th>name</th>\n",
       "      <th>job_title</th>\n",
       "      <th>experience_years</th>\n",
       "      <th>skills</th>\n",
       "      <th>education</th>\n",
       "    </tr>\n",
       "  </thead>\n",
       "  <tbody>\n",
       "    <tr>\n",
       "      <th>0</th>\n",
       "      <td>Ali Khan</td>\n",
       "      <td>Data Scientist</td>\n",
       "      <td>2</td>\n",
       "      <td>Python; Pandas; Machine Learning; SQL</td>\n",
       "      <td>BS Computer Science</td>\n",
       "    </tr>\n",
       "    <tr>\n",
       "      <th>1</th>\n",
       "      <td>Sara Malik</td>\n",
       "      <td>ML Engineer</td>\n",
       "      <td>3</td>\n",
       "      <td>Python; TensorFlow; Keras; Deep Learning</td>\n",
       "      <td>MS AI</td>\n",
       "    </tr>\n",
       "    <tr>\n",
       "      <th>2</th>\n",
       "      <td>Ahmed Raza</td>\n",
       "      <td>Data Analyst</td>\n",
       "      <td>1</td>\n",
       "      <td>Excel; SQL; Data Visualization</td>\n",
       "      <td>BS Statistics</td>\n",
       "    </tr>\n",
       "    <tr>\n",
       "      <th>3</th>\n",
       "      <td>Zoya Tariq</td>\n",
       "      <td>Software Engineer</td>\n",
       "      <td>4</td>\n",
       "      <td>Java; Spring Boot; Microservices</td>\n",
       "      <td>BS Software Engineering</td>\n",
       "    </tr>\n",
       "    <tr>\n",
       "      <th>4</th>\n",
       "      <td>Hassan Noor</td>\n",
       "      <td>NLP Researcher</td>\n",
       "      <td>2</td>\n",
       "      <td>NLP; Transformers; HuggingFace; PyTorch</td>\n",
       "      <td>MS Data Science</td>\n",
       "    </tr>\n",
       "  </tbody>\n",
       "</table>\n",
       "</div>"
      ],
      "text/plain": [
       "          name          job_title  experience_years  \\\n",
       "0     Ali Khan     Data Scientist                 2   \n",
       "1   Sara Malik        ML Engineer                 3   \n",
       "2   Ahmed Raza       Data Analyst                 1   \n",
       "3   Zoya Tariq  Software Engineer                 4   \n",
       "4  Hassan Noor     NLP Researcher                 2   \n",
       "\n",
       "                                     skills                education  \n",
       "0     Python; Pandas; Machine Learning; SQL      BS Computer Science  \n",
       "1  Python; TensorFlow; Keras; Deep Learning                    MS AI  \n",
       "2            Excel; SQL; Data Visualization            BS Statistics  \n",
       "3          Java; Spring Boot; Microservices  BS Software Engineering  \n",
       "4   NLP; Transformers; HuggingFace; PyTorch          MS Data Science  "
      ]
     },
     "execution_count": 9,
     "metadata": {},
     "output_type": "execute_result"
    }
   ],
   "source": [
    "# Import pandas to work with data\n",
    "import pandas as pd\n",
    "\n",
    "# Load my dataset\n",
    "df = pd.read_csv(\"data/resumes.csv\")  # path matches my project folder structure\n",
    "\n",
    "# Peek at the first few rows\n",
    "df.head()\n"
   ]
  },
  {
   "cell_type": "code",
   "execution_count": null,
   "id": "05afd35a-a74b-41de-8bc9-d86ff99571d0",
   "metadata": {},
   "outputs": [],
   "source": []
  }
 ],
 "metadata": {
  "kernelspec": {
   "display_name": "Python (resumeenv)",
   "language": "python",
   "name": "resumeenv"
  },
  "language_info": {
   "codemirror_mode": {
    "name": "ipython",
    "version": 3
   },
   "file_extension": ".py",
   "mimetype": "text/x-python",
   "name": "python",
   "nbconvert_exporter": "python",
   "pygments_lexer": "ipython3",
   "version": "3.12.3"
  }
 },
 "nbformat": 4,
 "nbformat_minor": 5
}
